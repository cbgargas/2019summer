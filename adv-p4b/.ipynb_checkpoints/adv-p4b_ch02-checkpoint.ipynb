{
 "cells": [
  {
   "cell_type": "code",
   "execution_count": 1,
   "metadata": {},
   "outputs": [],
   "source": [
    "# In text examples\n"
   ]
  },
  {
   "cell_type": "code",
   "execution_count": 2,
   "metadata": {},
   "outputs": [],
   "source": [
    "tax_dict = {\n",
    "'Pan troglodytes' : 'Hominoidea', 'Pongo abelii' : 'Hominoidea',\n",
    "'Hominoidea' : 'Simiiformes', 'Simiiformes' : 'Haplorrhini',\n",
    "'Tarsius tarsier' : 'Tarsiiformes', 'Haplorrhini' : 'Primates',\n",
    "'Tarsiiformes' : 'Haplorrhini', 'Loris tardigradus' :\n",
    "'Lorisidae',\n",
    "'Lorisidae' : 'Strepsirrhini', 'Strepsirrhini' : 'Primates',\n",
    "'Allocebus trichotis' : 'Lemuriformes', 'Lemuriformes' :\n",
    "'Strepsirrhini',\n",
    "'Galago alleni' : 'Lorisiformes', 'Lorisiformes' :\n",
    "'Strepsirrhini',\n",
    "'Galago moholi' : ' Lorisiformes'\n",
    "}"
   ]
  },
  {
   "cell_type": "code",
   "execution_count": null,
   "metadata": {},
   "outputs": [],
   "source": [
    "new_tax_dict = {\n",
    "'Primates': ['Haplorrhini', 'Strepsirrhini'],\n",
    "'Tarsiiformes': ['Tarsius tarsier'],\n",
    "'Haplorrhini': ['Tarsiiformes', 'Simiiformes'],\n",
    "'Simiiformes': ['Hominoidea'],\n",
    "'Lorisidae': ['Loris tardigradus'],\n",
    "'Lemuriformes': ['Allocebus trichotis'],\n",
    "'Lorisiformes': ['Galago alleni','Galago moholi'],\n",
    "'Hominoidea': ['Pongo abelii', 'Pan troglodytes'],\n",
    "'Strepsirrhini': ['Lorisidae', 'Lemuriformes', 'Lorisiformes']\n",
    "}"
   ]
  },
  {
   "cell_type": "code",
   "execution_count": 19,
   "metadata": {},
   "outputs": [],
   "source": [
    "def get_ancestors_rec(taxon):\n",
    "    result = [taxon]\n",
    "    while taxon != 'Primates':\n",
    "        result.append(tax_dict.get(taxon))\n",
    "        taxon = tax_dict.get(taxon)\n",
    "    return result"
   ]
  },
  {
   "cell_type": "code",
   "execution_count": 20,
   "metadata": {},
   "outputs": [],
   "source": [
    "# Exercises"
   ]
  },
  {
   "cell_type": "code",
   "execution_count": 21,
   "metadata": {},
   "outputs": [],
   "source": [
    "# Last Common Ancestor\n",
    "\n",
    "def get_lca(taxon1, taxon2):\n",
    "    taxon1_ancestors = [taxon1] + get_ancestors_rec(taxon1)\n",
    "    for taxon in [taxon2] + get_ancestors_rec(taxon2):\n",
    "        if taxon in taxon1_ancestors:\n",
    "            return taxon"
   ]
  },
  {
   "cell_type": "code",
   "execution_count": 22,
   "metadata": {},
   "outputs": [
    {
     "name": "stdout",
     "output_type": "stream",
     "text": [
      "Haplorrhini\n",
      "Hominoidea\n",
      "Primates\n"
     ]
    }
   ],
   "source": [
    "print(get_lca('Pan troglodytes','Tarsius tarsier'))\n",
    "print(get_lca('Pan troglodytes','Pongo abelii'))\n",
    "print(get_lca('Pan troglodytes','Strepsirrhini'))"
   ]
  },
  {
   "cell_type": "code",
   "execution_count": 23,
   "metadata": {},
   "outputs": [
    {
     "name": "stdout",
     "output_type": "stream",
     "text": [
      "LCA of Pongo abelii and Tarsius tarsier is Haplorrhini\n",
      "LCA of Haplorrhini and Pan troglodytes is Haplorrhini\n",
      "Haplorrhini\n"
     ]
    }
   ],
   "source": [
    "def get_lca_list(taxa):\n",
    "    taxon1 = taxa.pop()\n",
    "    while len(taxa) > 0:\n",
    "        taxon2 = taxa.pop()\n",
    "        lca = get_lca(taxon1, taxon2)\n",
    "        print('LCA of ' + taxon1 + ' and ' + taxon2 + ' is ' + lca)\n",
    "        taxon1 = lca\n",
    "    return taxon1\n",
    "print(get_lca_list(['Pan troglodytes','Tarsius tarsier', 'Pongo abelii']))"
   ]
  },
  {
   "cell_type": "code",
   "execution_count": 24,
   "metadata": {},
   "outputs": [
    {
     "name": "stdout",
     "output_type": "stream",
     "text": [
      "LCA of Pongo abelii and Tarsius tarsier is Haplorrhini\n",
      "LCA of Haplorrhini and Pan troglodytes is Haplorrhini\n",
      "Haplorrhini\n"
     ]
    }
   ],
   "source": [
    "def get_lca_list(taxa):\n",
    "    taxon1 = taxa.pop()\n",
    "    while len(taxa) > 0:\n",
    "        taxon2 = taxa.pop()\n",
    "        lca = get_lca(taxon1, taxon2)\n",
    "        print('LCA of ' + taxon1 + ' and ' + taxon2 + ' is ' + lca)\n",
    "        taxon1 = lca\n",
    "    return taxon1\n",
    "print(get_lca_list(['Pan troglodytes','Tarsius tarsier', 'Pongo abelii']))"
   ]
  },
  {
   "cell_type": "code",
   "execution_count": 31,
   "metadata": {},
   "outputs": [
    {
     "name": "stdout",
     "output_type": "stream",
     "text": [
      "getting lca for ['Pan troglodytes', 'Tarsius tarsier', 'Pongo abelii']\n",
      "getting lca for ['Pan troglodytes', 'Tarsius tarsier']\n",
      "Haplorrhini\n",
      "LCA: Strepsirrhini\n"
     ]
    }
   ],
   "source": [
    "#recursive versions\n",
    "\n",
    "tax_dict = { \n",
    "'Pan troglodytes' : 'Hominoidea',       'Pongo abelii' : 'Hominoidea', \n",
    "'Hominoidea' :  'Simiiformes',          'Simiiformes' : 'Haplorrhini', \n",
    "'Tarsius tarsier' : 'Tarsiiformes',     'Haplorrhini' : 'Primates',\n",
    "'Tarsiiformes' : 'Haplorrhini',         'Loris tardigradus' : 'Lorisidae',\n",
    "'Lorisidae' : 'Strepsirrhini',          'Strepsirrhini' : 'Primates',\n",
    "'Allocebus trichotis' : 'Lemuriformes', 'Lemuriformes' : 'Strepsirrhini',\n",
    "'Galago alleni' : 'Lorisiformes',       'Lorisiformes' : 'Strepsirrhini',\n",
    "'Galago moholi' : 'Lorisiformes'\n",
    "} \n",
    "\n",
    "def get_ancestors_rec(taxon):\n",
    "\tif taxon == 'Primates':\n",
    "\t\treturn [taxon]\n",
    "\telse:\n",
    "\t\tparent = tax_dict.get(taxon)\n",
    "\t\tparent_ancestors = get_ancestors_rec(parent) \n",
    "\t\treturn [parent] + parent_ancestors\n",
    "\n",
    "def get_lca(taxon1, taxon2): \n",
    "    taxon1_ancestors = [taxon1] + get_ancestors_rec(taxon1) \n",
    "    for taxon in [taxon2] + get_ancestors_rec(taxon2): \n",
    "        if taxon in taxon1_ancestors: \n",
    "            return taxon \n",
    "\n",
    "def get_lca_list_rec(taxa): \n",
    "    print(\"getting lca for \" + str(taxa)) \n",
    "    if len(taxa) == 2: \n",
    "        return get_lca(taxa[0], taxa[1]) \n",
    "    else: \n",
    "        taxon1 = taxa.pop() \n",
    "        taxon2 = get_lca_list_rec(taxa) \n",
    "        return get_lca(taxon1, taxon2) \n",
    "\n",
    "print(get_lca_list_rec(['Pan troglodytes','Tarsius tarsier', 'Pongo abelii']))\n",
    "print('LCA: '+get_lca('Allocebus trichotis','Galago moholi'))"
   ]
  },
  {
   "cell_type": "code",
   "execution_count": null,
   "metadata": {},
   "outputs": [],
   "source": []
  }
 ],
 "metadata": {
  "kernelspec": {
   "display_name": "Python 3",
   "language": "python",
   "name": "python3"
  },
  "language_info": {
   "codemirror_mode": {
    "name": "ipython",
    "version": 3
   },
   "file_extension": ".py",
   "mimetype": "text/x-python",
   "name": "python",
   "nbconvert_exporter": "python",
   "pygments_lexer": "ipython3",
   "version": "3.7.3"
  }
 },
 "nbformat": 4,
 "nbformat_minor": 2
}
